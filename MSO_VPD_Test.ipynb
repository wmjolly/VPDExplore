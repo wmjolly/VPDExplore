{
 "cells": [
  {
   "cell_type": "markdown",
   "id": "9a04d491-064e-4b61-9ba7-4e5e43e0e9e3",
   "metadata": {},
   "source": [
    "## Vapor Pressure Deficit exploration\n",
    "### Matt and Dana Work Session 07 Aug 2023"
   ]
  },
  {
   "cell_type": "code",
   "execution_count": null,
   "id": "cac074a3-1cba-448b-aa57-260313c4b056",
   "metadata": {},
   "outputs": [],
   "source": [
    "import pandas as pd\n",
    "import math\n",
    "import matplotlib.pyplot as plt"
   ]
  },
  {
   "cell_type": "markdown",
   "id": "b23fd671-b3ac-40fb-8e83-829ca68914e5",
   "metadata": {},
   "source": [
    "### FireFamilyPlus Dewpoint, Sat Vapor Pressure and VPD Calculations"
   ]
  },
  {
   "cell_type": "code",
   "execution_count": null,
   "id": "fdc34666-0911-409a-b992-d56766077d17",
   "metadata": {},
   "outputs": [],
   "source": [
    "# Calculate Dewpoint temperature from Temp and RH\n",
    "def CalcDPT(tempF, RH):\n",
    "\tsafeTemp = min(140.0, tempF)\n",
    "\tsafeRH = max(5.0, RH)\n",
    "\tdp = -398.36 - 7428.6 / (-15.674 + math.log(safeRH / 100.0 * exp(-7482.6/(safeTemp + 398.36) + 15.675)))\n",
    "\treturn dp\n",
    "\n",
    "# Calculate the Vapor Pressure from Temperature(F)\n",
    "def  CalcVP(tempF):\n",
    "    tmpC =  (tempF - 32.0) / 1.8\n",
    "    vp = 610.7 * math.exp((17.38 * tmpC)/(239 + tmpC))\n",
    "    #print(tmpC)\n",
    "    return vp\n",
    "\n",
    "# Calculate the VPD from RH and Temperature(F)\n",
    "def CalcVPD(RH, TempF):\n",
    "    vp = CalcVP(TempF)\n",
    "    vpd = vp - (RH / 100) * vp\n",
    "    if(vpd < 0.0):\n",
    "        vpd = 0.0\n",
    "    return vpd\n",
    "\n",
    "# Calculate the Actual Vapor Pressure from VPSat(Pa) and RH(%)\n",
    "def CalcVPAct(VPSat,RH):\n",
    "    return (RH / 100) * VPSat\n"
   ]
  },
  {
   "cell_type": "markdown",
   "id": "ae04b7d2-ed34-4382-a869-d6fafc1461b4",
   "metadata": {},
   "source": [
    "### First, read the FW21 into a Pandas DataFrame"
   ]
  },
  {
   "cell_type": "code",
   "execution_count": null,
   "id": "8a51e24f-34c0-4fd7-a347-b52dcdabaa5a",
   "metadata": {},
   "outputs": [],
   "source": [
    "df = pd.read_csv(\"./Data/FW21//MSO.fw21.csv\")"
   ]
  },
  {
   "cell_type": "code",
   "execution_count": null,
   "id": "fa3e0c5a-abe4-4cca-9667-01ee5fc75a5d",
   "metadata": {},
   "outputs": [],
   "source": [
    "df"
   ]
  },
  {
   "cell_type": "markdown",
   "id": "1a9ff56f-e659-45bf-8f72-d7f0b9ccc2bd",
   "metadata": {},
   "source": [
    "### Let's fix some of the datatypes in the DataFrame"
   ]
  },
  {
   "cell_type": "code",
   "execution_count": null,
   "id": "1bd98fc6-111b-4527-94f8-1b81a110fbc4",
   "metadata": {},
   "outputs": [],
   "source": [
    "siteName = \"Missoula\"\n",
    "df.rename(columns=lambda x: x.strip(), inplace=True)\n",
    "df['DateTime']=pd.to_datetime(df['DateTime'].astype(str))\n",
    "df.set_index(df.DateTime,inplace=True)\n",
    "df.DateTime.dtype"
   ]
  },
  {
   "cell_type": "code",
   "execution_count": null,
   "id": "19a3c090-720e-4153-8309-9446e24cb794",
   "metadata": {},
   "outputs": [],
   "source": [
    "# Filter for any bad data\n",
    "df = df[(df['Precipitation(in)']<5)]"
   ]
  },
  {
   "cell_type": "code",
   "execution_count": null,
   "id": "e3562996-dc82-4f89-bda5-4e69c9685efa",
   "metadata": {},
   "outputs": [],
   "source": [
    "df.columns"
   ]
  },
  {
   "cell_type": "code",
   "execution_count": null,
   "id": "dbd5d4d4-5ebf-4bdf-afb8-b15f880e4170",
   "metadata": {},
   "outputs": [],
   "source": [
    "df['Temperature(F)'].plot()"
   ]
  },
  {
   "cell_type": "markdown",
   "id": "d28bee5a-02a7-4421-8426-b46b3f2128a2",
   "metadata": {},
   "source": [
    "### Let's plot the Saturation Vapor Pressure curve"
   ]
  },
  {
   "cell_type": "code",
   "execution_count": null,
   "id": "2aabb0ff-b7b5-464c-9a34-3aac53c0a43b",
   "metadata": {},
   "outputs": [],
   "source": [
    "f,ax =plt.subplots()\n",
    "vp = []\n",
    "for t in range(0,110):\n",
    "    vp.append(CalcVP(t))\n",
    "plt.plot(vp)\n",
    "plt.grid()\n",
    "ax.set_xlabel('Temperature (F)')\n",
    "ax.set_ylabel('Vapor Pressure (Pa)')\n"
   ]
  },
  {
   "cell_type": "markdown",
   "id": "38b8c68c-35a1-47d7-9a67-2981578eb3bf",
   "metadata": {},
   "source": [
    "### Let's calculate the Saturation Vapor Pressure for our weather observations"
   ]
  },
  {
   "cell_type": "code",
   "execution_count": 24,
   "id": "51e17fa9-d255-448d-9ddb-78a5aadad1f1",
   "metadata": {},
   "outputs": [],
   "source": [
    "VPSat = df.apply(lambda row: CalcVP(row['Temperature(F)']),axis=1)\n",
    "df = df.copy()\n",
    "df['VPSat(Pa)'] = VPSat\n",
    "#df.assign(df['VPSat(Pa)'] = df['Temperature(F)'])\n",
    "#df['VPSat(Pa)'] = VPSat"
   ]
  },
  {
   "cell_type": "code",
   "execution_count": null,
   "id": "da58fd01-7e23-40c8-820e-97bfbae97682",
   "metadata": {},
   "outputs": [],
   "source": []
  },
  {
   "cell_type": "code",
   "execution_count": null,
   "id": "1efc6add-dc7d-49d5-8bb7-a0e33d7a583c",
   "metadata": {},
   "outputs": [],
   "source": [
    "df.columns"
   ]
  },
  {
   "cell_type": "markdown",
   "id": "7a40d3ff-ca1d-4fc0-999b-01a5fda1dcea",
   "metadata": {},
   "source": [
    "df['VPSat(Pa)'].groupby(df['DateTime'].dt.dayofyear).mean(['VPSat(Pa)']).plot()"
   ]
  },
  {
   "cell_type": "markdown",
   "id": "53cbcb90-a6ce-4c30-a3c4-b9c6c0866997",
   "metadata": {},
   "source": [
    "### Now, Let's calculate the Actual Vapor Pressure (VPAct)"
   ]
  },
  {
   "cell_type": "code",
   "execution_count": null,
   "id": "a20796b8-94fa-4f3e-bb80-a17a9f48d1a3",
   "metadata": {},
   "outputs": [],
   "source": [
    "df.loc[:,'VPAct(Pa)'] = (df['RelativeHumidity(%)']/ 100) * df['VPSat(Pa)']"
   ]
  },
  {
   "cell_type": "markdown",
   "id": "a7e1a716-7a84-4996-8810-45eae31a679a",
   "metadata": {},
   "source": [
    "https://colorbrewer2.org/#type=diverging&scheme=RdYlBu&n=5"
   ]
  },
  {
   "cell_type": "markdown",
   "id": "531e8160-61b5-4383-8745-753a5e3a17bd",
   "metadata": {},
   "source": [
    "### Let's plot the differences between VPAct and VPSat"
   ]
  },
  {
   "cell_type": "code",
   "execution_count": null,
   "id": "302bade7-a567-4b3d-bb77-80d523120209",
   "metadata": {},
   "outputs": [],
   "source": [
    "f,ax = plt.subplots()\n",
    "df['VPSat(Pa)'].groupby(df['DateTime'].dt.dayofyear).mean(['VPSat(Pa)']).plot(ax=ax,color='#d7191c',label='VPSat',legend=True)\n",
    "df['VPAct(Pa)'].groupby(df['DateTime'].dt.dayofyear).mean(['VPAct(Pa)']).plot(ax=ax,color='#2c7bb6',label='VPAct',legend=True)\n",
    "plt.grid()\n",
    "ax.set_xlabel('Day of Year')\n",
    "ax.set_ylabel('Vapor Pressure (Pa)')"
   ]
  },
  {
   "cell_type": "code",
   "execution_count": null,
   "id": "45d3cafd-c4a1-471a-af17-fed9616d6d17",
   "metadata": {},
   "outputs": [],
   "source": [
    "df.loc[:,'VPD(Pa)'] = df['VPSat(Pa)'] - df['VPAct(Pa)']"
   ]
  },
  {
   "cell_type": "code",
   "execution_count": null,
   "id": "2b806cd9-3985-4192-bb83-94add95fffa7",
   "metadata": {},
   "outputs": [],
   "source": [
    "varname = 'VPD(Pa)'\n",
    "f,ax = plt.subplots()\n",
    "df[varname].groupby(df['DateTime'].dt.dayofyear).min(varname).plot(ax=ax,color='#2c7bb6',label=\"Min\",legend=True)\n",
    "df[varname].groupby(df['DateTime'].dt.dayofyear).mean(varname).plot(ax=ax,color='#fee090',label=\"Mean\",legend=True)\n",
    "df[varname].groupby(df['DateTime'].dt.dayofyear).max(varname).plot(ax=ax,color='#d7191c',label=\"Max\",legend=True)\n",
    "plt.grid()\n",
    "ax.set_title(f\"Missoula {varname} (2001-2023)\")\n",
    "ax.set_xlabel(\"Day of year\")\n",
    "ax.set_ylabel(varname)"
   ]
  },
  {
   "cell_type": "code",
   "execution_count": null,
   "id": "c05147c7-11c0-48f1-95cd-b788201cbc45",
   "metadata": {},
   "outputs": [],
   "source": [
    "varname = 'Precipitation(in)'\n",
    "f,ax = plt.subplots()\n",
    "df[varname].groupby(df['DateTime'].dt.dayofyear).min(varname).plot(ax=ax,color='#2c7bb6',label=\"Min\",legend=True)\n",
    "df[varname].groupby(df['DateTime'].dt.dayofyear).mean(varname).plot(ax=ax,color='#fee090',label=\"Mean\",legend=True)\n",
    "df[varname].groupby(df['DateTime'].dt.dayofyear).max(varname).plot(ax=ax,color='#d7191c',label=\"Max\",legend=True)\n",
    "plt.grid()\n",
    "ax.set_title(f\"Missoula {varname} (2001-2023)\")\n",
    "ax.set_xlabel(\"Day of year\")\n",
    "ax.set_ylabel(varname)"
   ]
  },
  {
   "cell_type": "markdown",
   "id": "1d32578b-edc3-4c67-8512-c126b6408cc5",
   "metadata": {},
   "source": [
    "### Let's print some ranges to explore the data"
   ]
  },
  {
   "cell_type": "code",
   "execution_count": null,
   "id": "4b2f326f-c36b-4bfa-98f9-44962e91942a",
   "metadata": {},
   "outputs": [],
   "source": [
    "### Now let's plot them together (Sat and Act)"
   ]
  },
  {
   "cell_type": "code",
   "execution_count": null,
   "id": "fd83ba51-590c-4aae-afe2-6a73ff33e18b",
   "metadata": {},
   "outputs": [],
   "source": [
    "print(df['WindSpeed(mph)'].min())\n",
    "print(df['WindSpeed(mph)'].mean())\n",
    "print(df['WindSpeed(mph)'].max())"
   ]
  },
  {
   "cell_type": "code",
   "execution_count": null,
   "id": "98e5ec7c-4323-438f-b67e-3314e8548b50",
   "metadata": {},
   "outputs": [],
   "source": [
    "# Example of a data summary over a fixed time period\n",
    "df['Temperature(F)'].resample('2Y').mean()"
   ]
  },
  {
   "cell_type": "code",
   "execution_count": null,
   "id": "f8aabd3e-a34c-4341-96a0-63a14a5428db",
   "metadata": {},
   "outputs": [],
   "source": [
    "df['Temperature(F)'].resample('3M').mean().plot(color='#2c7bb6')"
   ]
  },
  {
   "cell_type": "markdown",
   "id": "18ea5053-d775-4dc3-99b0-8fb2469543be",
   "metadata": {},
   "source": [
    "### Let's plot annual summaries by percentiles"
   ]
  },
  {
   "cell_type": "code",
   "execution_count": null,
   "id": "db597d3a-86c8-48c7-964c-311e59b4da03",
   "metadata": {},
   "outputs": [],
   "source": [
    "varname = 'VPD(Pa)'\n",
    "perc = 0.95\n",
    "f,ax = plt.subplots()\n",
    "df[varname].groupby(df['DateTime'].dt.year).quantile(perc).plot(ax=ax,color='#2c7bb6')\n",
    "plt.grid()\n",
    "ax.set_title(f\"Annual {perc*100}th  percentile {varname} (2001-2023) (Missoula)\")\n",
    "ax.set_xlabel(\"Year\")\n",
    "ax.set_ylabel(varname)"
   ]
  },
  {
   "cell_type": "code",
   "execution_count": null,
   "id": "731b816f-4a15-4734-a4f9-0eca3eb5f410",
   "metadata": {},
   "outputs": [],
   "source": []
  }
 ],
 "metadata": {
  "kernelspec": {
   "display_name": "Python 3 (ipykernel)",
   "language": "python",
   "name": "python3"
  },
  "language_info": {
   "codemirror_mode": {
    "name": "ipython",
    "version": 3
   },
   "file_extension": ".py",
   "mimetype": "text/x-python",
   "name": "python",
   "nbconvert_exporter": "python",
   "pygments_lexer": "ipython3",
   "version": "3.9.16"
  }
 },
 "nbformat": 4,
 "nbformat_minor": 5
}
